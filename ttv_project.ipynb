{
 "cells": [
  {
   "cell_type": "markdown",
   "metadata": {},
   "source": [
    "# TTV Project\n",
    "\n",
    "Identification des génotypes de Torque teno virus \"TTV\" présents chez les donneurs \"D\" et receveurs \"R\" de greffe. <br>"
   ]
  },
  {
   "cell_type": "markdown",
   "metadata": {},
   "source": [
    "## Summary"
   ]
  },
  {
   "cell_type": "markdown",
   "metadata": {},
   "source": [
    "1. Introduction <br>\n",
    "2. Goals <br>\n",
    "3. Data <br>\n",
    "3.1. Raw reads <br>\n",
    "3.2. Human genome <br>\n",
    "3.3. TTV genotypes <br>\n",
    "3.4. Microbial databases <br>\n",
    "3.4.1. Viral <br>\n",
    "3.4.2. Fungal <br>\n",
    "3.4.3. Bacterial <br>\n",
    "4. Reads filtering <br>\n",
    "4.1. Initial quality control <br>\n",
    "4.2. Filtering based on read quality <br>\n",
    "4.2.1. QC <br>\n",
    "4.2.2. Merge FASTQ files belonging to the same sample <br>\n",
    "4.3. Human reads removal <br>\n",
    "4.3.1. Load data on genotoul <br>\n",
    "4.3.2. Build BWA index <br>\n",
    "4.3.3. Map reads <br>\n",
    "4.3.4. Validate BAMs <br>\n",
    "4.3.5. Sort & index BAMs <br>\n",
    "4.3.6. BAM to FASTA <br>\n",
    "4.3.7. DL these FASTA files <br>\n",
    "4.4. 5' UTR reads removal <br>\n",
    "5. TTV taxonomical analysis <br>\n",
    "5.1. Retrieve Orf1 sequences for our 57 genotypes <br>\n",
    "5.2. Create taxo groups based on Orf1 homology <br>\n",
    "6. Assign reads to microbial DBs & TTV genotypes <br>\n",
    "6.1. Create databases <br>\n",
    "6.1.1. Viral DBs <br>\n",
    "6.1.2. Fungal DB <br>\n",
    "6.1.3. Bacterial DB <br>\n",
    "6.2. Blastn vs viral DBs <br>\n",
    "6.3. Blastn vs fungal DB <br>\n",
    "6.4. Blastn vs bacterial DB <br>\n",
    "6.5. Hit count per TTV genotypes <br>"
   ]
  },
  {
   "cell_type": "markdown",
   "metadata": {},
   "source": [
    "## 0) Todo"
   ]
  },
  {
   "cell_type": "markdown",
   "metadata": {},
   "source": [
    "- Terminer le projet pour fin Septembre. <br>\n",
    "- Check DB MIC (contient tt génomes micro-org ?). <br>\n",
    "- [Valentin] Contacter Rémi et voir où il en était sur son script de classification viral. <br>\n",
    "- Lancer le pipeline d'analyse complet ASAP (+ réflection sur étape blastn, need pos hit pour éventuel sort -> Orf1 vs complet) (et trouver un \"mode BAM\" pour hits blastn pour faire pileup easily). <br>"
   ]
  },
  {
   "cell_type": "markdown",
   "metadata": {},
   "source": [
    "## 1) Introduction <a name=\"introduction_1\"></a>\n",
    "Cf rapport sous overleaf : https://www.overleaf.com/10502404cfvdmgkmjwtc <br>"
   ]
  },
  {
   "cell_type": "markdown",
   "metadata": {},
   "source": [
    "## 2) Goals"
   ]
  },
  {
   "cell_type": "markdown",
   "metadata": {},
   "source": [
    "X) L'analyse comportera 2 \"embranchements\" : <br>\n",
    "- Chemin Orf1 || génomes_complets\n",
    "- Puis raisonnement sur génotypes pris 1 à 1 || groupes phylo de génotypes. <br>\n",
    "Ps : Pour voir si on s'attend à une grande différence entre Orf1 & complet, plot par génotypes le pileup des reads (des hits) sur séquences génome complet de l'étude. <br>\n",
    "\n",
    "A) Décrire les génotypes de TTV présents chez les D & R (D_all, R_all, R_35, R_75, R_360). <br>\n",
    "\n",
    "B) Des génotypes de TTV sont-ils transmis de D vers R, si oui quels sont-ils ? Certains ne sont-ils jamais transmis ? Taux de transmission ? Taux / succès de transmission est-il lié à la charge virale du D ? <br>\n",
    "\n",
    "C) Quels sont les génotypes qui croissent ou décroissent chez les R (quel(s) G(s) explique(nt) la plus grande partie de l'augmentation de la charge virale) ? Viennent-ils de D ? Sont-ce les mêmes 2/3 génotypes / groupe phylo de génotypes qui croissent chez tout les R ? (doit-on rapporter à la charge virale ?) <br>\n",
    "\n",
    "D) Les génotypes trouvés chez D & R sont-ils les mêmes d'un point de vue séquence ? Ex : D transmet G18 à R. G18 subit-il des modifs chez R ? (need assembly or something here => tool publi gigascience ?). Ps : Check aussi si recombinaison entre Gx & Gy (check via reads chevauchants ?). Un point important ici va être de donner la bonne sélection de reads en entrée d'un éventuel assemblage (donner filtered -Bact -Fungus ? Quid de refiltrer sur les no-match?). Et selon ce qu'on arrive à assembler, il faut prendre à peu près la même séquence pour comparer ensuite (genre si on assemble 3 G complet et 7 Orf1, prendre 10 Orf1 pour les comparaisons). <br>\n",
    "\n",
    "Exploratoire) \"Top 10\" des familles / espèces / ... les plus fréquentes lors du blastn vs Viral, Fungal & Bacterial. Pour max X reads qui ne se sont alignés contre rien, blast vs nt / nr."
   ]
  },
  {
   "cell_type": "markdown",
   "metadata": {},
   "source": [
    "## 3) Data"
   ]
  },
  {
   "cell_type": "markdown",
   "metadata": {},
   "source": [
    "### 3.1) Raw reads"
   ]
  },
  {
   "cell_type": "markdown",
   "metadata": {},
   "source": [
    "106 FASTA files coming from 3 differents Ion Proton runs (GénoLim). <br>"
   ]
  },
  {
   "cell_type": "markdown",
   "metadata": {},
   "source": [
    "Number of reads in raw files :"
   ]
  },
  {
   "cell_type": "code",
   "execution_count": null,
   "metadata": {
    "code_folding": [
     0
    ],
    "collapsed": true
   },
   "outputs": [],
   "source": [
    "#### Code ###\n",
    "cd ~/Desktop/TTV/BISCEm/Data/Reads_raw;\n",
    "for f in *fastq.gz;\n",
    "do lines=$(zgrep -Ec \"$\" $f);\n",
    "   printf $(($lines/4));\n",
    "   printf '\\t'$f'\\n';\n",
    "done;"
   ]
  },
  {
   "cell_type": "markdown",
   "metadata": {},
   "source": [
    "Data to sample correspondance : <br>\n",
    "\n",
    "Ps : The tidy datasheet below was deduced from : <br>\n",
    "~/Desktop/TTV/BISCEm/Docs/corresp_D-R_barecode_16062017.ppt <br>\n",
    "~/Desktop/TTV/BISCEm/Docs/donneurs_receveurs.xlsx."
   ]
  },
  {
   "cell_type": "code",
   "execution_count": null,
   "metadata": {
    "code_folding": [
     0
    ],
    "collapsed": false
   },
   "outputs": [],
   "source": [
    "#### Code ###\n",
    "chromium-browser https://docs.google.com/spreadsheets/d/\\\n",
    "1KI94IUmesq1CZwdfSobA2qzEM8ZeqHWh8sR3QPar_K0/edit?usp=sharing;"
   ]
  },
  {
   "cell_type": "markdown",
   "metadata": {},
   "source": [
    "### 3.2) Human genome"
   ]
  },
  {
   "cell_type": "code",
   "execution_count": null,
   "metadata": {
    "code_folding": [
     0
    ],
    "collapsed": true
   },
   "outputs": [],
   "source": [
    "#### Code ###\n",
    "cd ~/Desktop/TTV/BISCEm/Data/Human;\n",
    "axel ftp://ftp.ncbi.nlm.nih.gov/genomes/all/GCA/000/001/405/\\\n",
    "GCA_000001405.26_GRCh38.p11/GCA_000001405.26_GRCh38.p11_genomic.fna.gz;\n",
    "md5sum GCA_000001405.26_GRCh38.p11_genomic.fna.gz; # f48d3166ede36c3381643dace60348b9"
   ]
  },
  {
   "cell_type": "markdown",
   "metadata": {},
   "source": [
    "### 3.3) TTV genotypes"
   ]
  },
  {
   "cell_type": "markdown",
   "metadata": {},
   "source": [
    "Retrieval sources :"
   ]
  },
  {
   "cell_type": "markdown",
   "metadata": {},
   "source": [
    "- NCBI taxonomy (29) : ID = 687331 <=> Alphatorquevirus : <br>\n",
    "Don't take those listed as \"simian\". <br>\n",
    "Manually retrieve them, then cat into > ~/Desktop/TTV/BISCEm/Data/TTV/ncbi_taxid_687331_ttv_20170622.fasta <br>\n",
    "\n",
    "\n",
    "- Reference genome (1) : <br>\n",
    "https://www.ncbi.nlm.nih.gov/nuccore/NC_015783.1 > ~/Desktop/TTV/BISCEm/Data/TTV/ncbi_ttv_ref_genome_20170622.fasta.gz <br>\n",
    "\n",
    "\n",
    "- Via entrez search terms (27) : <br>\n",
    "https://ncbiinsights.ncbi.nlm.nih.gov/2013/02/19/how-to-download-bacterial-genomes-using-the-entrez-api <br> https://www.ncbi.nlm.nih.gov/books/NBK179288"
   ]
  },
  {
   "cell_type": "code",
   "execution_count": null,
   "metadata": {
    "code_folding": [
     0
    ],
    "collapsed": true
   },
   "outputs": [],
   "source": [
    "#### Code ###\n",
    "cd ~/Desktop/TTV/BISCEm/Data/TTV;\n",
    "\n",
    "# Retrieve TTV ID (!= taxo)\n",
    "wget -O ttv_genome.xml \"https://eutils.ncbi.nlm.nih.gov/entrez/\\\n",
    "eutils/esearch.fcgi?db=genome&term=torque+teno+virus\";\n",
    "id=$(grep -oP '<Id>\\K.*?(?=<\\/Id>)' ttv_genome.xml);\n",
    "\n",
    "# Use this ID to get all TTV genomes IDs from nuccore database\n",
    "wget -O ttv_genomes_ids.xml \"https://eutils.ncbi.nlm.nih.gov/entrez\\\n",
    "/eutils/elink.fcgi?dbfrom=genome&db=nuccore&id=$id\";\n",
    "grep -oP '<Id>\\K.*?(?=<\\/Id>)' ttv_genomes_ids.xml > ttv_genomes_ids.txt;\n",
    "sed -i '1d' ttv_genomes_ids.txt;\n",
    "\n",
    "# Filter out genomes IDs not associated with H.sapiens, then retrieve associated FASTA sequences\n",
    "while read line;\n",
    "do wget -O temp.txt \"https://eutils.ncbi.nlm.nih.gov/entrez/\\\n",
    "eutils/efetch.fcgi?db=nuccore&id=$line&retmode=text\"; \n",
    "   if grep --quiet \"sapiens\" temp.txt;\n",
    "   then echo $line >> ttv_genomes_ids_with_hsapiens.txt;\n",
    "   fi;\n",
    "done < ttv_genomes_ids.txt;\n",
    "while read line;\n",
    "do wget -O - \"https://eutils.ncbi.nlm.nih.gov/entrez/eutils/\\\n",
    "efetch.fcgi?db=nuccore&id=$line&rettype=fasta&retmode=text\" >> entrez_ttv_genomes_with_hsapiens_20170622.fasta;\n",
    "done < ttv_genomes_ids_with_hsapiens.txt;\n",
    "pigz entrez_ttv_genomes_with_hsapiens_20170622.fasta;\n",
    "\n",
    "# Clean all these temp files mess\n",
    "rm ttv_genome.xml ttv_genomes_ids.xml ttv_genomes_ids.txt temp.txt ttv_genomes_ids_with_hsapiens.txt;"
   ]
  },
  {
   "cell_type": "markdown",
   "metadata": {},
   "source": [
    "Then cat those 3 files in a single FASTA file (containing the 57 genotypes) :"
   ]
  },
  {
   "cell_type": "code",
   "execution_count": null,
   "metadata": {
    "code_folding": [
     0
    ],
    "collapsed": true
   },
   "outputs": [],
   "source": [
    "#### Code ###\n",
    "cat ncbi_taxid_687331_ttv_20170622.fasta.gz \\\n",
    "    ncbi_ttv_ref_genome_20170622.fasta.gz \\\n",
    "    entrez_ttv_genomes_with_hsapiens_20170622.fasta.gz > all_ttv_genotypes.fasta.gz;"
   ]
  },
  {
   "cell_type": "markdown",
   "metadata": {
    "collapsed": true
   },
   "source": [
    "### 3.4) Microbial databases"
   ]
  },
  {
   "cell_type": "markdown",
   "metadata": {
    "collapsed": true
   },
   "source": [
    "#### 3.4.1) Viral"
   ]
  },
  {
   "cell_type": "markdown",
   "metadata": {},
   "source": [
    "#### 3.4.2) Fungal"
   ]
  },
  {
   "cell_type": "markdown",
   "metadata": {},
   "source": [
    "#### 3.4.3) Bacterial"
   ]
  },
  {
   "cell_type": "markdown",
   "metadata": {},
   "source": [
    "Given that the NCBI refseq contain too much sequences for the future blastn step to be done in a reasonable amount of computing time, we needed to reduce the size of the bacterial database. The choice was made to use The Human microbiome project (HMP) as a ressource. <br>\n",
    "In 2009, HMP compiled a database of microbial reference genomes (HMREFG), as described here : http://www.hmpdacc.org/HMREFG. This database contains archea, low-eucaryote, viral & bacterial, which are reported in the fasta header as follow : >ARCH, >EUKY, >VIRL, >BACT. The bacterial component of this database underwent a process of removing highly redundant, non HMP-sequenced reference genomes."
   ]
  },
  {
   "cell_type": "markdown",
   "metadata": {},
   "source": [
    "Retrieve the HMREFG file, decompress & rename it :"
   ]
  },
  {
   "cell_type": "code",
   "execution_count": null,
   "metadata": {
    "code_folding": [
     0
    ],
    "collapsed": false
   },
   "outputs": [],
   "source": [
    "#### Code ###\n",
    "cd ~/Desktop/TTV/BISCEm/Data/Bacterial;\n",
    "axel -q ftp://public-ftp.hmpdacc.org/HMREFG/all_seqs.fa.bz2;\n",
    "bzip2 -d all_seqs.fa.bz2;\n",
    "mv all_seqs.fa hmp_microorganisms.fasta;"
   ]
  },
  {
   "cell_type": "markdown",
   "metadata": {},
   "source": [
    "Check which bacteria are included in this database :"
   ]
  },
  {
   "cell_type": "code",
   "execution_count": null,
   "metadata": {
    "code_folding": [
     0
    ],
    "collapsed": false
   },
   "outputs": [],
   "source": [
    "#### Code ###\n",
    "grep '^>BAC' hmp_microorganisms.fasta \\\n",
    "| awk -F \"[[:space:]]\" '{print $2\"_\"$3}' \\\n",
    "| sort -u > hmp_bacterial_list.txt;\n",
    "head hmp_bacterial_list.txt;\n",
    "tail hmp_bacterial_list.txt;"
   ]
  },
  {
   "cell_type": "markdown",
   "metadata": {},
   "source": [
    "Retrieve each bacteria header, then use seqtk to subsample all bacteria in the hmp_microorganisms.fasta :"
   ]
  },
  {
   "cell_type": "code",
   "execution_count": null,
   "metadata": {
    "code_folding": [
     0
    ],
    "collapsed": true
   },
   "outputs": [],
   "source": [
    "#### Code ###\n",
    "grep '^>BAC' hmp_microorganisms.fasta \\\n",
    "| awk -F \"[[:space:]]\" '{print $1}' \\\n",
    "| sed 's/^>//g' > hmp_bacterial_header.list;\n",
    "seqtk subseq hmp_microorganisms.fasta hmp_bacterial_header.list > hmp_bacterial.fasta;"
   ]
  },
  {
   "cell_type": "markdown",
   "metadata": {},
   "source": [
    "Compress data for storage and remove useless files :"
   ]
  },
  {
   "cell_type": "code",
   "execution_count": null,
   "metadata": {
    "code_folding": [
     0
    ],
    "collapsed": true
   },
   "outputs": [],
   "source": [
    "#### Code ###\n",
    "pigz hmp_bacterial.fasta;\n",
    "pigz hmp_microorganisms.fasta;\n",
    "rm hmp_bacterial_header.list;"
   ]
  },
  {
   "cell_type": "markdown",
   "metadata": {},
   "source": [
    "Ps : Bonus question : The HMREFG Reference Genome Database contains (quoting) \"1751 bacterial strains over 1253 species\". Let's try to verify this :"
   ]
  },
  {
   "cell_type": "code",
   "execution_count": null,
   "metadata": {
    "code_folding": [
     0
    ],
    "collapsed": true
   },
   "outputs": [],
   "source": [
    "#### Code ###\n",
    "zgrep '^>BAC' hmp_microorganisms.fasta.gz \\\n",
    "| awk -F '\\\\|' '{print $1}' \\\n",
    "| awk -F \"_\" '{print $2}' \\\n",
    "| sort -un \\\n",
    "| wc -l;"
   ]
  },
  {
   "cell_type": "markdown",
   "metadata": {},
   "source": [
    "We are 17 strains short. This question was mailed to http://www.hmpdacc.org/outreach/feedback.php."
   ]
  },
  {
   "cell_type": "markdown",
   "metadata": {},
   "source": [
    "Ps bis : Get bacteria accession numbers :"
   ]
  },
  {
   "cell_type": "code",
   "execution_count": null,
   "metadata": {
    "code_folding": [
     0
    ],
    "collapsed": true
   },
   "outputs": [],
   "source": [
    "#### Code ###\n",
    "cd ~/Desktop/TTV/BISCEm/Data/Bacterial;\n",
    "awk -F \"[[:space:]]\" '{print $1}' hmp_bacterial_header.list | \\\n",
    "rev | sed 's/^|//' | cut -d'|' -f 1 | rev > hmp_bacterial_an.txt;"
   ]
  },
  {
   "cell_type": "markdown",
   "metadata": {
    "collapsed": true
   },
   "source": [
    "## 4) Reads filtering"
   ]
  },
  {
   "cell_type": "markdown",
   "metadata": {},
   "source": [
    "### 4.1) Initial quality control"
   ]
  },
  {
   "cell_type": "markdown",
   "metadata": {},
   "source": [
    "FastQC v0.11.5 :"
   ]
  },
  {
   "cell_type": "code",
   "execution_count": null,
   "metadata": {
    "code_folding": [
     0
    ],
    "collapsed": true
   },
   "outputs": [],
   "source": [
    "#### Code ###\n",
    "mkdir -p ~/Software/FastQC/Outputs/TTV ~/Desktop/TTV/BISCEm/Data/Reads_raw/QC;\n",
    "cd ~/Desktop/TTV/BISCEm/Data/Reads_raw;"
   ]
  },
  {
   "cell_type": "code",
   "execution_count": null,
   "metadata": {
    "code_folding": [
     0
    ],
    "collapsed": true
   },
   "outputs": [],
   "source": [
    "#### Code ###\n",
    "for f in *.fastq.gz;\n",
    "do fastqc --outdir ~/Software/FastQC/Outputs/TTV/ -f fastq $f;\n",
    "done >> ~/Desktop/TTV/BISCEm/Data/Reads_raw/QC/fastqc_verbose.txt;"
   ]
  },
  {
   "cell_type": "markdown",
   "metadata": {},
   "source": [
    "multiqc, version 0.9.dev0 : <br>\n",
    "Ps : Done for all combined runs & for each run separately, to highlight potential run biais."
   ]
  },
  {
   "cell_type": "code",
   "execution_count": null,
   "metadata": {
    "code_folding": [
     0
    ],
    "collapsed": true
   },
   "outputs": [],
   "source": [
    "#### Code ###\n",
    "# For all runs\n",
    "cd ~/Software/MultiQC/Outputs;\n",
    "multiqc -i ttv -n ttv -v ~/Software/FastQC/Outputs/TTV/ >> multiqc_verbose.txt;\n",
    "cp -r ttv* ~/Desktop/TTV/BISCEm/Data/Reads_raw/QC;\n",
    "\n",
    "# Per run\n",
    "cd ~/Software/FastQC/Outputs/TTV;\n",
    "mkdir -p P1 P2 P31 P32;\n",
    "for f in p1_*; do mv $f P1; done;\n",
    "for f in p2_*; do mv $f P2; done;\n",
    "for f in p31_*; do mv $f P31; done;\n",
    "for f in p32_*; do mv $f P32; done;\n",
    "cd ~/Software/MultiQC/Outputs;\n",
    "multiqc -i ttv_p1 -n ttv_p1 -v ~/Software/FastQC/Outputs/TTV/P1;\n",
    "multiqc -i ttv_p2 -n ttv_p2 -v ~/Software/FastQC/Outputs/TTV/P2;\n",
    "multiqc -i ttv_p31 -n ttv_p31 -v ~/Software/FastQC/Outputs/TTV/P31;\n",
    "multiqc -i ttv_p32 -n ttv_p32 -v ~/Software/FastQC/Outputs/TTV/P32;\n",
    "cp -r *ttv_p* ~/Desktop/TTV/BISCEm/Data/Reads_raw/QC;\n",
    "cd ~/Software/FastQC/Outputs/TTV;\n",
    "mv P1/* P2/* P31/* P32/* .;\n",
    "rm -r P1 P2 P31 P32;"
   ]
  },
  {
   "cell_type": "markdown",
   "metadata": {},
   "source": [
    "Visualize multiqc results :"
   ]
  },
  {
   "cell_type": "code",
   "execution_count": null,
   "metadata": {
    "code_folding": [
     0
    ],
    "collapsed": false
   },
   "outputs": [],
   "source": [
    "#### Code ###\n",
    "cd ~/Desktop/TTV/BISCEm/Data/Reads_raw/QC;\n",
    "chromium-browser *.html;"
   ]
  },
  {
   "cell_type": "markdown",
   "metadata": {},
   "source": [
    "Comments : <br>\n",
    "- The 5' per base sequence content seems skewed on the first 10 bases (i.e. not 25% for each nt), but this is expected for libraries produced by priming using random hexamers, which induce sequence composition biais on 5'. <br>\n",
    "- The over-represented sequence metric has no real sense for datasets with very few (100000 or less) reads. <br>\n",
    "- The per base sequence content is dirty toward the 3' end for our datasets, because there are a few (<1%%) sequences which are 200+ nts long, thus the ATGC% is obviously skewed."
   ]
  },
  {
   "cell_type": "markdown",
   "metadata": {},
   "source": [
    "### 4.2) Filtering based on read quality"
   ]
  },
  {
   "cell_type": "markdown",
   "metadata": {},
   "source": [
    "Software : PRINSEQ-lite 0.20.4"
   ]
  },
  {
   "cell_type": "code",
   "execution_count": null,
   "metadata": {
    "code_folding": [
     0
    ],
    "collapsed": true
   },
   "outputs": [],
   "source": [
    "#### Code ###\n",
    "biscem='/home/erwann/Desktop/TTV/BISCEm';\n",
    "cd $biscem/Data/Reads_raw;\n",
    "mkdir -p $biscem/Output/Reads_qual;\n",
    "out=$biscem'/Output/Reads_qual';"
   ]
  },
  {
   "cell_type": "code",
   "execution_count": null,
   "metadata": {
    "code_folding": [
     0
    ],
    "collapsed": false
   },
   "outputs": [],
   "source": [
    "### CODE ###\n",
    "echo $PRIN;"
   ]
  },
  {
   "cell_type": "code",
   "execution_count": null,
   "metadata": {
    "code_folding": [
     0
    ],
    "collapsed": false
   },
   "outputs": [],
   "source": [
    "#### Code ###\n",
    "for f in *.fastq.gz;\n",
    "do echo $f;\n",
    "   unpigz $f;\n",
    "   perl $PRIN -fastq ${f%.*} \\\n",
    "              -out_good $out'/'${f%%.*}'_qual' \\\n",
    "              -out_bad null \\\n",
    "              -trim_qual_type mean \\\n",
    "              -trim_qual_window 5 \\\n",
    "              -trim_qual_left 20 \\\n",
    "              -trim_qual_right 20 \\\n",
    "              -min_len 100 \\\n",
    "              -min_qual_mean 20 \\\n",
    "              -lc_method entropy \\\n",
    "              -lc_threshold 70 \\\n",
    "              -derep 1 \\\n",
    "              -derep_min 2;\n",
    "   pigz ${f%.*};\n",
    "   pigz  $out'/'${f%%.*}\"_qual\".fastq;\n",
    "done &>> $out'/prinseq.verbose';"
   ]
  },
  {
   "cell_type": "markdown",
   "metadata": {},
   "source": [
    "Order in which options are applied (see man prinseq) & what they do : <br>\n",
    "\n",
    "Ps : Triming options : A 5nts sliding windows checking mean score : -trim_qual_type mean & -trim_qual_window 5 <br>\n",
    "1) Trim 5' based on qual : -trim_qual_left 20 (Phred score) <br>\n",
    "2) Trim 3' based on qual : -trim_qual_right 20 <br>\n",
    "3) Discard reads shorter than 100 nts : -min_len 100 <br>\n",
    "4) Filter sequence with mean qual score below 20 : -min_qual_mean 20 <br>\n",
    "5) Discard low-complexity reads : -lc_method entropy & -lc_threshold 70 (ala Vlaminck) <br>\n",
    "6) Remove exact duplicates : -derep 1 & -derep_min 2 <br>"
   ]
  },
  {
   "cell_type": "markdown",
   "metadata": {},
   "source": [
    "#### 4.2.1) QC"
   ]
  },
  {
   "cell_type": "markdown",
   "metadata": {},
   "source": [
    "Goal : Check if there is a notable improvement compared to QC done on raw reads."
   ]
  },
  {
   "cell_type": "code",
   "execution_count": null,
   "metadata": {
    "code_folding": [
     0
    ],
    "collapsed": true
   },
   "outputs": [],
   "source": [
    "#### Code ###\n",
    "fastqc='/home/erwann/Software/FastQC/Outputs';"
   ]
  },
  {
   "cell_type": "code",
   "execution_count": null,
   "metadata": {
    "code_folding": [
     0
    ],
    "collapsed": true
   },
   "outputs": [],
   "source": [
    "#### Code ###\n",
    "# FastQC\n",
    "mkdir -p $fastqc/TTV_qual \\\n",
    "         $out/QC;\n",
    "cd $out;\n",
    "for f in *.fastq.gz;\n",
    "do fastqc --outdir $fastqc/TTV_qual/ -f fastq $f;\n",
    "done &>> QC/fastqc_verbose.txt;\n",
    "\n",
    "# MultiQC\n",
    "cd $fastqc/TTV_qual;\n",
    "mkdir -p P1 P2 P31 P32;\n",
    "for f in p1_*; do mv $f P1; done;\n",
    "for f in p2_*; do mv $f P2; done;\n",
    "for f in p31_*; do mv $f P31; done;\n",
    "for f in p32_*; do mv $f P32; done;\n",
    "cd ~/Software/MultiQC/Outputs;\n",
    "multiqc -i TTV_qual_p1 -n TTV_qual_p1 -v $fastqc/TTV_qual/P1;\n",
    "multiqc -i TTV_qual_p2 -n TTV_qual_p2 -v $fastqc/TTV_qual/P2;\n",
    "multiqc -i TTV_qual_p31 -n TTV_qual_p31 -v $fastqc/TTV_qual/P31;\n",
    "multiqc -i TTV_qual_p32 -n TTV_qual_p32 -v $fastqc/TTV_qual/P32;\n",
    "cp -r TTV_qual_* $out/QC;\n",
    "cd $fastqc/TTV_qual;\n",
    "mv P1/* P2/* P31/* P32/* .;\n",
    "rm -r P1 P2 P31 P32;"
   ]
  },
  {
   "cell_type": "code",
   "execution_count": null,
   "metadata": {
    "code_folding": [
     0
    ],
    "collapsed": false
   },
   "outputs": [],
   "source": [
    "#### Code ###\n",
    "cd $out/QC;\n",
    "chromium-browser *.html;"
   ]
  },
  {
   "cell_type": "markdown",
   "metadata": {},
   "source": [
    "#### 4.2.2) Merge FASTQ files belonging to the same sample"
   ]
  },
  {
   "cell_type": "markdown",
   "metadata": {
    "collapsed": true
   },
   "source": [
    "First, create a backup folder with unmerged FASTQ :"
   ]
  },
  {
   "cell_type": "code",
   "execution_count": null,
   "metadata": {
    "code_folding": [
     0
    ],
    "collapsed": true
   },
   "outputs": [],
   "source": [
    "#### Code ###\n",
    "cd $out;\n",
    "mkdir -p Before_sample_merging;\n",
    "cp *.fastq.gz Before_sample_merging;"
   ]
  },
  {
   "cell_type": "code",
   "execution_count": null,
   "metadata": {
    "code_folding": [
     0
    ],
    "collapsed": true
   },
   "outputs": [],
   "source": [
    "#### Code ###\n",
    "bash rename_to_sample.sh;\n",
    "rm p*.*fastq.gz;"
   ]
  },
  {
   "cell_type": "markdown",
   "metadata": {},
   "source": [
    "Ps : Content of rename_to_sample.sh :"
   ]
  },
  {
   "cell_type": "code",
   "execution_count": null,
   "metadata": {
    "code_folding": [
     0
    ],
    "collapsed": false
   },
   "outputs": [],
   "source": [
    "#### Code ###\n",
    "cat p31_r74_qual.fastq.gz p32_r74_qual.fastq.gz > d1_qual.fastq.gz;\n",
    "cat p31_r75_qual.fastq.gz p32_r75_qual.fastq.gz > d3_qual.fastq.gz;\n",
    "mv p1_r2_qual.fastq.gz d4_qual.fastq.gz;\n",
    "...\n",
    "mv p2_r54_qual.fastq.gz r44_qual.fastq.gz;\n",
    "mv p2_r55_qual.fastq.gz r45_qual.fastq.gz;\n",
    "cat p2_r56_qual.fastq.gz p31_r33_qual.fastq.gz p32_r33_qual.fastq.gz \\\n",
    "    p31_r63_qual.fastq.gz p32_r63_qual.fastq.gz > r46_qual.fastq.gz;"
   ]
  },
  {
   "cell_type": "markdown",
   "metadata": {},
   "source": [
    "Number of reads in quality filtered files :"
   ]
  },
  {
   "cell_type": "code",
   "execution_count": null,
   "metadata": {
    "code_folding": [
     0
    ],
    "collapsed": true
   },
   "outputs": [],
   "source": [
    "#### Code ###\n",
    "for f in *fastq.gz;\n",
    "do lines=$(zgrep -Ec \"$\" $f);\n",
    "   printf $(($lines/4));\n",
    "   printf '\\t'$f'\\n';\n",
    "done;"
   ]
  },
  {
   "cell_type": "markdown",
   "metadata": {},
   "source": [
    "### 4.3) Human reads removal"
   ]
  },
  {
   "cell_type": "markdown",
   "metadata": {},
   "source": [
    "#### 4.3.1) Load data on genotoul :"
   ]
  },
  {
   "cell_type": "code",
   "execution_count": null,
   "metadata": {
    "code_folding": [
     0
    ],
    "collapsed": true
   },
   "outputs": [],
   "source": [
    "#### Code ###\n",
    "cd ~/Desktop/TTV/BISCEm/Output;\n",
    "sudo scp -r Reads_qual escaon@genotoul.toulouse.inra.fr:/home/escaon/save/TTV;"
   ]
  },
  {
   "cell_type": "markdown",
   "metadata": {},
   "source": [
    "We are using BWA-0.7.15 to map reads on the human genome."
   ]
  },
  {
   "cell_type": "markdown",
   "metadata": {},
   "source": [
    "#### 4.3.2) Build BWA index :"
   ]
  },
  {
   "cell_type": "markdown",
   "metadata": {},
   "source": [
    "Content of bwa_idx.sh :"
   ]
  },
  {
   "cell_type": "code",
   "execution_count": null,
   "metadata": {
    "code_folding": [
     0
    ],
    "collapsed": true
   },
   "outputs": [],
   "source": [
    "#### Code ###\n",
    "#!/bin/bash\n",
    "#$ -q workq\n",
    "#$ -M erwan.scaon@unilim.fr\n",
    "#$ -m bea\n",
    "#$ -l mem=48G\n",
    "#$ -l h_vmem=60G\n",
    "#$ -N GRCh38_bwa_idx\n",
    "#$ -o /home/escaon/work/TTV/bwa_idx_o.txt\n",
    "#$ -e /home/escaon/work/TTV/bwa_idx_e.txt\n",
    "\n",
    "BWA='/usr/local/bioinfo/src/bwa/bwa-0.7.15/bwa';\n",
    "path='/home/escaon/save/TTV/Data';\n",
    "\n",
    "$BWA index -p GRCh38_p11_bwtsw -a bwtsw $path/GCA_000001405.26_GRCh38.p11_genomic.fna;"
   ]
  },
  {
   "cell_type": "markdown",
   "metadata": {},
   "source": [
    "#### 4.3.3) Map reads :"
   ]
  },
  {
   "cell_type": "markdown",
   "metadata": {},
   "source": [
    "Content of bwa_mem.sh :"
   ]
  },
  {
   "cell_type": "code",
   "execution_count": null,
   "metadata": {
    "code_folding": [
     0
    ],
    "collapsed": true
   },
   "outputs": [],
   "source": [
    "#### Code ###\n",
    "#!/bin/bash\n",
    "#$ -q workq\n",
    "#$ -M erwan.scaon@unilim.fr\n",
    "#$ -m bea\n",
    "#$ -l mem=8G\n",
    "#$ -l h_vmem=12G\n",
    "#$ -N TTV_bwa_mem\n",
    "#$ -o /home/escaon/work/TTV/ttv_bwa_mem_20170907_o.txt\n",
    "#$ -e /home/escaon/work/TTV/ttv_bwa_mem_20170907_e.txt\n",
    "\n",
    "# qsub -pe parallel_smp 8 bwa_mem.sh\n",
    "\n",
    "BWA='/usr/local/bioinfo/src/bwa/bwa-0.7.15/bwa';\n",
    "save='/home/escaon/save/TTV';\n",
    "work='/home/escaon/work/TTV';\n",
    "nt=8;\n",
    "\n",
    "mkdir -p $work/Reads_qual_hm;\n",
    "cd $save/Reads_qual;\n",
    "for f in *.fastq.gz;\n",
    "do $BWA mem -t $nt \\\n",
    "            -R '@RG\\tID:'${f%%.*}'\\tLB:'${f%%.*}'\\tPL:IONTORRENT\\tPU:GenoLim\\tSM:'${f%%.*} \\\n",
    "            $work/Bwa_idx/GRCh38_p11_bwtsw \\\n",
    "            <(unpigz -c $f) |\\\n",
    "            samtools view -bh -f 4 \\\n",
    "            > $work/Reads_qual_hm/${f%%.*}.bam;\n",
    "done;"
   ]
  },
  {
   "cell_type": "code",
   "execution_count": null,
   "metadata": {
    "code_folding": [
     0
    ],
    "collapsed": true
   },
   "outputs": [],
   "source": [
    "#### Code ###\n",
    "grep -i 'error' ttv_bwa_mem_20170907_e.txt;"
   ]
  },
  {
   "cell_type": "markdown",
   "metadata": {},
   "source": [
    "#### 4.3.4) Validate BAMs :"
   ]
  },
  {
   "cell_type": "markdown",
   "metadata": {},
   "source": [
    "Content of picard_validate.sh :"
   ]
  },
  {
   "cell_type": "code",
   "execution_count": null,
   "metadata": {
    "code_folding": [
     0
    ],
    "collapsed": true
   },
   "outputs": [],
   "source": [
    "#### Code ###\n",
    "#!/bin/bash\n",
    "#$ -q workq\n",
    "#$ -M erwan.scaon@unilim.fr\n",
    "#$ -m bea\n",
    "#$ -l mem=32G\n",
    "#$ -l h_vmem=40G\n",
    "#$ -N TTV_picard_validate\n",
    "#$ -o /home/escaon/work/TTV/ttv_picard_val_o.txt\n",
    "#$ -e /home/escaon/work/TTV/ttv_picard_val_e.txt\n",
    "\n",
    "work='/home/escaon/work/TTV';\n",
    "module load bioinfo/Java8;\n",
    "PICARD='/usr/local/bioinfo/src/picard-tools/picard-tools-2.1.1/picard.jar';\n",
    "\n",
    "cd $work/Reads_qual_hm;\n",
    "for f in *.bam;\n",
    "do echo $f; java -jar $PICARD ValidateSamFile I=$f MODE=SUMMARY;\n",
    "done;"
   ]
  },
  {
   "cell_type": "code",
   "execution_count": null,
   "metadata": {
    "code_folding": [
     0
    ],
    "collapsed": true
   },
   "outputs": [],
   "source": [
    "#### Code ###\n",
    "grep -i 'error' ttv_picard_val_e.txt;\n",
    "# & manual review of ttv_picard_val_o.txt"
   ]
  },
  {
   "cell_type": "markdown",
   "metadata": {},
   "source": [
    "#### 4.3.5) Sort & index BAMs :"
   ]
  },
  {
   "cell_type": "markdown",
   "metadata": {},
   "source": [
    "Content of samtools_sort_idx.sh :"
   ]
  },
  {
   "cell_type": "code",
   "execution_count": null,
   "metadata": {
    "code_folding": [
     0
    ],
    "collapsed": true
   },
   "outputs": [],
   "source": [
    "#### Code ###\n",
    "#!/bin/bash\n",
    "#$ -q workq\n",
    "#$ -M erwan.scaon@unilim.fr\n",
    "#$ -m bea\n",
    "#$ -l mem=40G\n",
    "#$ -l h_vmem=48G\n",
    "#$ -N TTV_samtools_sort_idx\n",
    "#$ -o /home/escaon/work/TTV/ttv_samtools_sortidx_o.txt\n",
    "#$ -e /home/escaon/work/TTV/ttv_samtools_sortidx_e.txt\n",
    "\n",
    "work='/home/escaon/work/TTV';\n",
    "\n",
    "cd $work/Reads_qual_hm;\n",
    "for f in *.bam;\n",
    "do samtools sort -o ${f%.*}\"_sorted.bam\" $f;\n",
    "done;\n",
    "for f in *_sorted.bam;\n",
    "do samtools index $f;\n",
    "done;"
   ]
  },
  {
   "cell_type": "code",
   "execution_count": null,
   "metadata": {
    "code_folding": [
     0
    ],
    "collapsed": true
   },
   "outputs": [],
   "source": [
    "#### Code ###\n",
    "grep -i 'error' ttv_samtools_sortidx_e.txt;"
   ]
  },
  {
   "cell_type": "markdown",
   "metadata": {},
   "source": [
    "#### 4.3.6) BAM to FASTA :"
   ]
  },
  {
   "cell_type": "markdown",
   "metadata": {},
   "source": [
    "Content of samtools_fasta.sh :"
   ]
  },
  {
   "cell_type": "code",
   "execution_count": null,
   "metadata": {
    "code_folding": [
     0
    ],
    "collapsed": true
   },
   "outputs": [],
   "source": [
    "#### Code ###\n",
    "#!/bin/bash\n",
    "#$ -q workq\n",
    "#$ -M erwan.scaon@unilim.fr\n",
    "#$ -m bea\n",
    "#$ -l mem=32G\n",
    "#$ -l h_vmem=40G\n",
    "#$ -N TTV_samtools_fasta\n",
    "#$ -o /home/escaon/work/TTV/ttv_samtools_fasta_o.txt\n",
    "#$ -e /home/escaon/work/TTV/ttv_samtools_fasta_e.txt\n",
    "\n",
    "work='/home/escaon/work/TTV';\n",
    "\n",
    "cd $work/Reads_qual_hm;\n",
    "for f in *_sorted.bam;\n",
    "do samtools fasta $f > ${f%_*}.fasta;\n",
    "done;"
   ]
  },
  {
   "cell_type": "markdown",
   "metadata": {},
   "source": [
    "#### 4.3.7) DL these FASTA files locally :"
   ]
  },
  {
   "cell_type": "code",
   "execution_count": null,
   "metadata": {
    "code_folding": [
     0
    ],
    "collapsed": true
   },
   "outputs": [],
   "source": [
    "#### Code ###\n",
    "sudo scp escaon@genotoul.toulouse.inra.fr:/home/escaon/work/TTV/Reads_qual_hm/*.fasta \\\n",
    "         /home/erwann/Desktop/TTV/BISCEm/Output/Reads_qual_hm;"
   ]
  },
  {
   "cell_type": "markdown",
   "metadata": {},
   "source": [
    "Number of reads in filtered files : <br>\n",
    "Ps : Could have been checked in BAM files with : samtools view -c toto.bam;"
   ]
  },
  {
   "cell_type": "code",
   "execution_count": null,
   "metadata": {
    "code_folding": [
     0
    ],
    "collapsed": true
   },
   "outputs": [],
   "source": [
    "#### Code ###\n",
    "cd ~/Desktop/TTV/BISCEm/Output/Reads_qual_hm;\n",
    "for f in *.fasta;\n",
    "do printf $f'\\t';\n",
    "   grep -c '^>' $f;\n",
    "done;"
   ]
  },
  {
   "cell_type": "markdown",
   "metadata": {},
   "source": [
    "### 4.4) 5' UTR reads removal"
   ]
  },
  {
   "cell_type": "markdown",
   "metadata": {},
   "source": [
    "Rappel de l'objectif ici : Sachant que les génotypes de TTV partagent une zone en 5' qui est fortement conservée, il serait bon de ne pas tenir compte des reads qui s'alignent pour une majeur partie de leur longueur sur cette zone 5', pour éviter de créer des biais au niveau du compte des reads assignés à chaque génotype (en gros on préfère se focaliser sur les reads vraiment discriminants).\n",
    "\n",
    "Ok, donc je pars sur ce consensus +++ conservé de 93nts. Cf : /home/erwann/Desktop/TTV/BISCEm/Data/TTV/Genomes_MSA/MultAlin result.html\n",
    "\n",
    "Nb : En 3' de ce consensus, on retrouve directement pas mal de variabilité entre les génotypes. C'est moins vrai en 5', je dirais que les 67 nts en amont du consensus sont relativement conservés, donc pas forcément très discriminants pour nos objectifs.\n",
    "\n",
    "Je pense donc appliquer la logique suivante :\n",
    "Pour chaque jeu de données après filtre sur la qualité et soustraction des reads humain, aligner les reads restants contre le consensus de 93 nts.\n",
    "Si un read possède un hit de 25 ou plus nts dans cette zone de 93nts alors :\n",
    "Si ce read possède, en 3' du consensus, 50 ou plus nts non-impliqués dans le hit , on le conserve (car ces 50+ nts seront discriminants).\n",
    "Si ce read possède, en 5' du consensus + 67 nts (pour tenir compte de la partie environ conservée), 50 ou plus nts non-impliqués dans le hit, on le conserve (car ces 50+ nts seront discriminants).\n",
    "Si le read n'a pas assez de nts discriminants en 3' ou en 5' du consensus, alors il sera retiré du jeu de données."
   ]
  },
  {
   "cell_type": "markdown",
   "metadata": {},
   "source": [
    "Content of discard_5prime_consensus_reads.py :"
   ]
  },
  {
   "cell_type": "code",
   "execution_count": null,
   "metadata": {
    "code_folding": [
     0
    ],
    "collapsed": true
   },
   "outputs": [],
   "source": [
    "#### Code ###\n",
    "#!/usr/bin/env python\n",
    "import os\n",
    "import sys\n",
    "\n",
    "usage = '\\t --------\\n' \\\n",
    "        '\\t| usage  : python discard_5prime_consensus_reads file_1\\n' \\\n",
    "        '\\t| input  : file_1 = blastn_vs_5prime_consensus.tsv\\n' \\\n",
    "        '\\t| output : a file containing read names to discard\\n' \\\n",
    "        '\\t --------'\n",
    "\n",
    "if len(sys.argv) != 2:\n",
    "    print(usage)\n",
    "    sys.exit()\n",
    "\n",
    "query_dic = {}\n",
    "with open(sys.argv[1], 'r') as tsv:\n",
    "    for row in tsv:\n",
    "        columns = row.split('\\t')\n",
    "        qseqid, length, qstart, qend, sstart, send, qlen, sstrand = columns[0], int(columns[3]), int(\n",
    "            columns[6]), int(columns[7]), int(columns[8]), int(columns[9]), int(columns[12]), columns[14].rstrip()\n",
    "        if not qseqid in query_dic:\n",
    "            if length >= 25:\n",
    "                if sstrand == 'plus':\n",
    "                    five_prime_overhead = (qstart - 1) - (sstart - 1) - 67\n",
    "                    three_prime_overhead = (qlen - qend) - (93 - send)\n",
    "                elif sstrand == 'minus':\n",
    "                    five_prime_overhead = (qlen - qend) - (send - 1) - 67\n",
    "                    three_prime_overhead = (qstart - 1) - (93 - sstart)\n",
    "                else:\n",
    "                    print('------------ERROR------------')\n",
    "                if five_prime_overhead >= 50 or three_prime_overhead >= 50:\n",
    "                    query_dic[qseqid] = 'keep'\n",
    "                else:\n",
    "                    query_dic[qseqid] = 'discard'\n",
    "\n",
    "file = sys.argv[1].split('/')\n",
    "sample = file[-1].split('.')[0]\n",
    "\n",
    "with open(sample + '.discard', 'a') as out:\n",
    "    for k, v in query_dic.items():\n",
    "        if v == 'discard':\n",
    "            out.write(k + \"\\n\")"
   ]
  },
  {
   "cell_type": "markdown",
   "metadata": {},
   "source": [
    "Apply this filtering step :"
   ]
  },
  {
   "cell_type": "code",
   "execution_count": null,
   "metadata": {
    "code_folding": [
     0
    ],
    "collapsed": false
   },
   "outputs": [],
   "source": [
    "#### Code ###\n",
    "biscem='/home/erwann/Desktop/TTV/BISCEm';\n",
    "blast='/home/erwann/Software/Ncbi_blast_2.6.0+/bin';\n",
    "mkdir -p $biscem/Output/Reads_qual_hm_fivep;\n",
    "cd $biscem/Output/Reads_qual_hm;\n",
    "for f in *.fasta;\n",
    "do $blast/blastn -subject $biscem/Data/TTV/ttv_5prime_consensus.fasta \\\n",
    "                 -query $f \\\n",
    "                 -reward 1 \\\n",
    "                 -penalty -3 \\\n",
    "                 -word_size 12 \\\n",
    "                 -gapopen 5 \\\n",
    "                 -gapextend 2 \\\n",
    "                 -evalue 0.0001 \\\n",
    "                 -dust \"no\" \\\n",
    "                 -perc_identity 90 \\\n",
    "                 -culling_limit 2 \\\n",
    "                 -out ${f%.*}.tsv \\\n",
    "                 -outfmt \"6 qseqid sseqid pident length mismatch gapopen qstart \\\n",
    "                          qend sstart send evalue bitscore qlen nident sstrand\";\n",
    "                 python $biscem/Scripts/discard_5prime_consensus_reads.py ${f%.*}.tsv;\n",
    "                 grep '^>' $f | sort > ${f%.*}.headers; sed -i 's/^>//g' ${f%.*}.headers;\n",
    "                 sort ${f%.*}.discard -o ${f%.*}.discard;\n",
    "                 comm -23 ${f%.*}.headers ${f%.*}.discard > ${f%.*}.keepers;\n",
    "                 seqtk subseq $f ${f%.*}.keepers > $biscem/Output/Reads_qual_hm_fivep/$f;\n",
    "done;\n",
    "rm *.tsv *.headers *.discard *.keepers;"
   ]
  },
  {
   "cell_type": "markdown",
   "metadata": {},
   "source": [
    "Number of reads in filtered files :"
   ]
  },
  {
   "cell_type": "code",
   "execution_count": null,
   "metadata": {
    "code_folding": [
     0
    ],
    "collapsed": true
   },
   "outputs": [],
   "source": [
    "#### Code ###\n",
    "cd ~/Desktop/TTV/BISCEm/Output/Reads_qual_hm_fivep;\n",
    "for f in *.fasta;\n",
    "do printf $f'\\t';\n",
    "   grep -c '^>' $f;\n",
    "done;"
   ]
  },
  {
   "cell_type": "markdown",
   "metadata": {},
   "source": [
    "Upload them on genotoul & CALI :"
   ]
  },
  {
   "cell_type": "code",
   "execution_count": null,
   "metadata": {
    "code_folding": [
     0
    ],
    "collapsed": true
   },
   "outputs": [],
   "source": [
    "#### Code ####### Code ###\n",
    "sudo scp -r /home/erwann/Desktop/TTV/BISCEm/Output/Reads_qual_hm_fivep \\\n",
    "            escaon@genotoul.toulouse.inra.fr:/home/escaon/save/TTV;\n",
    "sudo scp -r /home/erwann/Desktop/TTV/BISCEm/Output/Reads_qual_hm_fivep \\\n",
    "            scaonp01@cali.unilim.fr://home/scaonp01/TTV;"
   ]
  },
  {
   "cell_type": "markdown",
   "metadata": {},
   "source": [
    "## 5) TTV taxonomical analysis"
   ]
  },
  {
   "cell_type": "markdown",
   "metadata": {},
   "source": [
    "It was decided to focus on Orf1 for this analysis, based on 65% homology (Maggi, etc...)"
   ]
  },
  {
   "cell_type": "markdown",
   "metadata": {},
   "source": [
    "### 5.1) Retrieve Orf1 sequences for our 57 genotypes"
   ]
  },
  {
   "cell_type": "markdown",
   "metadata": {},
   "source": [
    "- Manual inspection of the 57 genotypes entries for orf1 :\n",
    "\n",
    "cd /home/erwann/Desktop/TTV/BISCEm/Data/TTV;\n",
    "while read line;\n",
    "do chromium-browser https://www.ncbi.nlm.nih.gov/nuccore/$line;\n",
    "done < an_all_ttv_genotypes.txt;\n",
    "\n",
    "cd /home/erwann/Desktop/TTV/BISCEm/Data/TTV;\n",
    "while read line;\n",
    "do touch ../../Orf1/$line.bed;\n",
    "done < an_all_ttv_genotypes.txt;\n",
    "\n",
    "- Then fill the 57 BED files manually based on webpage info (start pos -1 plz)\n",
    "e.g. AB038621.1.bed => AB038621.1 665 2867\n",
    "- Those have no annotated CDS for Orf1 :\n",
    "\n",
    "AX025718.1\n",
    "AX025830.1\n",
    "AX174942.1\n",
    "KP343839.1\n",
    "NC_015783.1\n",
    "- Go to https://www.ebi.ac.uk/Tools/psa/genewise/\n",
    "& align this Orf1 protein sequence against them (https://www.ncbi.nlm.nih.gov/nuccore/NC_002076.2)\n",
    "They all have a hit <=> orf1 => put this info in their BED.\n",
    "\n",
    "- use seqtk to retrieve orf1 sequence only :\n",
    "\n",
    "cd /home/erwann/Desktop/TTV/BISCEm/Data/TTV/All_ttv_genotypes_one_per_fasta;\n",
    "for f in *.fasta;\n",
    "do seqtk subseq $f ../Orf1/${f%.*}.bed > ../Orf1/${f%.*}.fasta;\n",
    "done;\n",
    "\n",
    "- Need a step which checks that results nts len is / by 3.\n",
    "\n",
    "cd ../Orf1;\n",
    "for f in *.fasta; do printf $f\" : \"; grep -v \">\" $f | wc | awk '{print ($3-$1)/3}'; done;"
   ]
  },
  {
   "cell_type": "markdown",
   "metadata": {},
   "source": [
    "### 5.2) Create taxo groups based on Orf1 homology"
   ]
  },
  {
   "cell_type": "markdown",
   "metadata": {},
   "source": [
    "Voici les résultats de la phylogénie orf1 (alignement mafft+rooted UPGMA tree). <br>\n",
    "En comptant 65% de similitude on part sur 30 groupes : cf fichiers pim et groupes-pim (percentage identity matrix)"
   ]
  },
  {
   "cell_type": "markdown",
   "metadata": {},
   "source": [
    "## 6 Assign reads to microbial DBs & TTV genotypes"
   ]
  },
  {
   "cell_type": "markdown",
   "metadata": {},
   "source": [
    "This task will be done using blast 2.6.0+"
   ]
  },
  {
   "cell_type": "markdown",
   "metadata": {},
   "source": [
    "Ps : For fungal & bacterial blastn : <br>\n",
    "\n",
    "- Let's define TSV output as classical outfmt 6 fields + : <br>\n",
    "qlen # Query sequence length (needed to filter hits shorter than 90% of qlen) <br>\n",
    "saccver # Subject accession.version (in case of future need for eutils) <br>\n",
    "staxids # Subject Taxonomy ID(s) (If we want top X family / genus at some point) <br>\n",
    "sskingdoms # Subject Super Kingdom(s) (might be enough (rather than eutils)) <br>\n",
    "sblastnames # Subject Blast Name(s) (might be enough (rather than eutils)) <br>\n",
    "sscinames # Subject Scientific Name(s) (might be enough (rather than eutils)) <br>\n",
    "\n",
    "\n",
    "- Which translate into this argument : <br>\n",
    "-outfmt \"6 qseqid sseqid pident length mismatch gapopen qstart qend sstart send evalue bitscore qlen saccver staxids sskingdoms sblastnames sscinames\" <br>\n",
    "\n",
    "\n",
    "- But taxonomic fields & nt fields (saccver, staxids, sskingdoms, sblastnames, sscinames) are not working with custom DB. <br>\n",
    "\n",
    "Ps : with NT & no staxids, we can still access tax infos with AN + efetch : <br>"
   ]
  },
  {
   "cell_type": "code",
   "execution_count": null,
   "metadata": {
    "code_folding": [
     0
    ],
    "collapsed": true
   },
   "outputs": [],
   "source": [
    "### Code ###\n",
    "# Find staxids with accession number\n",
    "# Result => AN   staxids\n",
    "an='FJ070571';\n",
    "an='XM_012200431';\n",
    "efetch -db nuccore \\\n",
    "       -id $an \\\n",
    "       -format xml \\\n",
    "       | xtract -pattern Bioseq-set_seq-set \\\n",
    "                -division Seq-entry \\\n",
    "                -group Bioseq \\\n",
    "                -if Textseq-id_accession -equals $an \\\n",
    "                -element Textseq-id_accession \\\n",
    "                -branch Bioseq_descr \\\n",
    "                -block Org-ref_db \\\n",
    "                -element Object-id_id;\n",
    "\n",
    "# Fuck sometimes taxon is in Bioseq-set_descr (XM_012200431)"
   ]
  },
  {
   "cell_type": "markdown",
   "metadata": {},
   "source": [
    "Thus we're gonna stick with -outfmt \"6 qseqid sseqid pident length mismatch gapopen qstart qend sstart send evalue bitscore qlen\""
   ]
  },
  {
   "cell_type": "markdown",
   "metadata": {},
   "source": [
    "Ps : For viral blastn : <br>\n",
    "\n",
    "We need additional outfmt 6 fields to parse for Orf1 : <br>\n",
    "qstart # Start of alignment in query <br>\n",
    "qend # End of alignment in query <br>\n",
    "slen # Subject sequence length <br>\n",
    "sstart # Start of alignment in subject <br>\n",
    "send # End of alignment in subject <br>\n",
    "sstrand # Subject Strand <br>\n",
    "\n",
    "Thus yielding : -outfmt \"6 qseqid sseqid pident length mismatch gapopen qstart qend sstart send evalue bitscore qlen qstart qend slen sstart send sstrand\""
   ]
  },
  {
   "cell_type": "markdown",
   "metadata": {},
   "source": [
    "### 6.1) Create databases"
   ]
  },
  {
   "cell_type": "markdown",
   "metadata": {},
   "source": [
    "#### 6.1.1) Viral DBs"
   ]
  },
  {
   "cell_type": "code",
   "execution_count": null,
   "metadata": {
    "code_folding": [
     0
    ],
    "collapsed": true
   },
   "outputs": [],
   "source": [
    "### CODE ###\n",
    "# Initial rr_viral_plus_ttv\n",
    "\n",
    "# rr_viral_completeG\n",
    "\n",
    "### USELESS AT THE END OF THE DAY ###\n",
    "# Add -100 / +100 to BED positions\n",
    "cd ~/Desktop/TTV/BISCEm/Data/TTV/Orf1;\n",
    "mkdir -p ../Orf1_extended_100nts;\n",
    "for f in *.bed;\n",
    "do awk -F \"\\t\" '{print $1\"\\t\"$2-100\"\\t\"$3+100}' $f > ../Orf1_extended_100nts/$f;\n",
    "done;\n",
    "\n",
    "# Retrieve corresponding sequences with seqtk\n",
    "cd ~/Desktop/TTV/BISCEm/Data/TTV/All_ttv_genotypes_one_per_fasta;\n",
    "for f in *.fasta;\n",
    "do seqtk subseq $f ../Orf1_extended_100nts/${f%.*}.bed > ../Orf1_extended_100nts/$f;\n",
    "done;"
   ]
  },
  {
   "cell_type": "markdown",
   "metadata": {},
   "source": [
    "Ps : Discuter et faire ici ajustement DB viral // TTV et aux seqs Orf1 et g_complet => OUI."
   ]
  },
  {
   "cell_type": "markdown",
   "metadata": {},
   "source": [
    "Ps : Génomes complets TTV non-circularisés \"artificiellement\" car créerait un biais."
   ]
  },
  {
   "cell_type": "markdown",
   "metadata": {},
   "source": [
    "#### 6.1.2) Fungal DB"
   ]
  },
  {
   "cell_type": "code",
   "execution_count": null,
   "metadata": {
    "collapsed": true
   },
   "outputs": [],
   "source": []
  },
  {
   "cell_type": "markdown",
   "metadata": {},
   "source": [
    "#### 6.1.3) Bacterial DB"
   ]
  },
  {
   "cell_type": "code",
   "execution_count": null,
   "metadata": {
    "code_folding": [
     0
    ],
    "collapsed": true
   },
   "outputs": [],
   "source": [
    "### CODE ###\n",
    "blast='/home/erwann/Software/Ncbi_blast_2.6.0+/bin';\n",
    "unpigz hmp_bacterial.fasta.gz;\n",
    "$blast/makeblastdb -in hmp_bacterial.fasta -input_type fasta -dbtype nucl -out hmp_bacterial;\n",
    "pigz hmp_bacterial.fasta;"
   ]
  },
  {
   "cell_type": "markdown",
   "metadata": {},
   "source": [
    "### 6.2) Blastn vs viral DBs"
   ]
  },
  {
   "cell_type": "markdown",
   "metadata": {},
   "source": [
    "Done locally :"
   ]
  },
  {
   "cell_type": "code",
   "execution_count": null,
   "metadata": {
    "code_folding": [
     0
    ],
    "collapsed": false
   },
   "outputs": [],
   "source": [
    "### CODE ###\n",
    "biscem='/home/erwann/Desktop/TTV/BISCEm';\n",
    "blast='/home/erwann/Software/Ncbi_blast_2.6.0+/bin';\n",
    "mkdir -p $biscem/Output/Viral_blastn;\n",
    "nt=8;\n",
    "\n",
    "cd $biscem/Output/Reads_qual_hm_fivep;\n",
    "for f in *.fasta;\n",
    "do $blast/blastn -db $biscem/Data/Blast_DB/rr_viral_plus_ttv \\\n",
    "                 -query $f \\\n",
    "                 -reward 1 \\\n",
    "                 -penalty -3 \\\n",
    "                 -word_size 12 \\\n",
    "                 -gapopen 5 \\\n",
    "                 -gapextend 2 \\\n",
    "                 -evalue 0.0001 \\\n",
    "                 -dust \"no\" \\\n",
    "                 -perc_identity 90 \\\n",
    "                 -culling_limit 2 \\\n",
    "                 -out $biscem/Output/Viral_blastn/${f%_*}\"_vs_viral.tsv\" \\\n",
    "                 -outfmt \"6 qseqid sseqid pident length mismatch gapopen qstart \\\n",
    "                          qend sstart send evalue bitscore qlen slen sstrand\" \\\n",
    "                 -num_threads $nt;\n",
    "done;\n",
    "\n",
    "### OLD -> TO DEL WHEN ABOVE RUNS ###\n",
    "biscem='/home/erwann/Desktop/TTV/BISCEm';\n",
    "blast='/home/erwann/Software/Ncbi_blast_2.6.0+/bin';\n",
    "mkdir -p $biscem/Vlaminck_pipe/Viral_blastn;\n",
    "nt=8;\n",
    "c $biscem/Vlaminck_pipe/Reads_filtered_100_minusHm_minus5prime;\n",
    "for f in *.fasta;\n",
    "do $blast/blastn -db $biscem/Data/Viral/DB/rr_viral_plus_ttv -query $f -reward 1 -penalty -3 -word_size 12 \\\n",
    "-gapopen 5 -gapextend 2 -evalue 0.0001 -dust \"no\" -perc_identity 90 -culling_limit 2 \\\n",
    "-out $biscem/Vlaminck_pipe/Viral_blastn/${f%.*}\"_vs_viral.tsv\" \\\n",
    "-outfmt \"6 qseqid sseqid pident length mismatch gapopen qstart qend \\\n",
    "sstart send evalue bitscore qlen nident sstrand\" -num_threads $nt;\n",
    "done;"
   ]
  },
  {
   "cell_type": "markdown",
   "metadata": {},
   "source": [
    "### 6.3) Blastn vs fungal DB"
   ]
  },
  {
   "cell_type": "markdown",
   "metadata": {},
   "source": [
    "Done on CALI :"
   ]
  },
  {
   "cell_type": "markdown",
   "metadata": {},
   "source": [
    "Create an initial script :"
   ]
  },
  {
   "cell_type": "code",
   "execution_count": null,
   "metadata": {
    "code_folding": [
     0
    ],
    "collapsed": true
   },
   "outputs": [],
   "source": [
    "### CODE ###\n",
    "#!/bin/bash\n",
    "#SBATCH --partition=normal\n",
    "#SBATCH --ntasks=1\n",
    "#SBATCH --cpus-per-task=12\n",
    "#SBATCH --mem-per-cpu=8192\n",
    "#SBATCH --time=1-23:59:59\n",
    "#SBATCH --mail-user=erwan.scaon@unilim.fr\n",
    "#SBATCH --mail-type=begin\n",
    "#SBATCH --mail-type=end\n",
    "#SBATCH --error=/home/scaonp01/scratch/TTV/ttv_blastn_fungal_d5.verbose\n",
    "#SBATCH --output=/home/scaonp01/scratch/TTV/ttv_blastn_fungal_d5.verbose\n",
    "#SBATCH --job-name=ttv_blastn_fungal_d5\n",
    "\n",
    "# sbatch blastn_fungal_d5.sh\n",
    "\n",
    "##############################\n",
    "### Paths, tools & modules ###\n",
    "##############################\n",
    "nt=12;\n",
    "export OMP_NUM_THREADS=$SLURM_CPUS_PER_TASK;\n",
    "ttv='/home/scaonp01/TTV';\n",
    "scratch='/home/scaonp01/scratch/TTV';\n",
    "blast='/home/scaonp01/Softwares/Ncbi_blast_plus_2.6.0';\n",
    "\n",
    "################\n",
    "### Commands ###\n",
    "################\n",
    "cd $ttv/Reads_qual_hm_fivep;\n",
    "for f in d5_qual.fasta;\n",
    "do $blast/blastn -db $ttv/DB/rr_fungi \\\n",
    "                 -query $f \\\n",
    "                 -reward 1 \\\n",
    "                 -penalty -3 \\\n",
    "                 -word_size 12 \\\n",
    "                 -gapopen 5 \\\n",
    "                 -gapextend 2 \\\n",
    "                 -evalue 0.0001 \\\n",
    "                 -dust \"no\" \\\n",
    "                 -perc_identity 90 \\\n",
    "                 -culling_limit 2 \\\n",
    "                 -out $scratch/${f%_*}\"_vs_fungal.tsv\" \\\n",
    "                 -outfmt \"6 qseqid sseqid pident length mismatch gapopen \\\n",
    "                          qstart qend sstart send evalue bitscore qlen\" \\\n",
    "                 -num_threads $nt;\n",
    "done;"
   ]
  },
  {
   "cell_type": "markdown",
   "metadata": {},
   "source": [
    "Launch script :"
   ]
  },
  {
   "cell_type": "code",
   "execution_count": null,
   "metadata": {
    "code_folding": [
     0
    ],
    "collapsed": true
   },
   "outputs": [],
   "source": [
    "### CODE ###\n",
    "sbatch blastn_fungal_d5.sh;"
   ]
  },
  {
   "cell_type": "markdown",
   "metadata": {},
   "source": [
    "Duplicate it for the other samples :"
   ]
  },
  {
   "cell_type": "code",
   "execution_count": null,
   "metadata": {
    "code_folding": [
     0
    ],
    "collapsed": true
   },
   "outputs": [],
   "source": [
    "### CODE ###\n",
    "# Check what we are going to replace\n",
    "for id in 'd5';\n",
    "do grep --color -i $id blastn_fungal_\"$id\".sh;\n",
    "done;\n",
    "\n",
    "# Dup scripts\n",
    "for id in 'd1' 'd3' 'd4' 'd8' 'd10' 'd11' 'd12' 'd13' 'd14' 'd15' 'd16' 'd17' \\\n",
    "          'd19' 'd20' 'r1' 'r2' 'r3' 'r4' 'r5' 'r6' 'r7' 'r8' 'r9' 'r10' 'r11' \\\n",
    "          'r12' 'r13' 'r14' 'r15' 'r16' 'r17' 'r18' 'r19' 'r20' 'r21' 'r22' 'r23' \\\n",
    "          'r24' 'r25' 'r26' 'r27' 'r28' 'r29' 'r30' 'r31' 'r32' 'r33' 'r34' 'r35' \\\n",
    "          'r36' 'r37' 'r38' 'r39' 'r40' 'r41' 'r42' 'r43' 'r44' 'r45' 'r46';\n",
    "do cp blastn_fungal_d5.sh blastn_fungal_\"$id\".sh;\n",
    "done;\n",
    "\n",
    "# Replace with new E name\n",
    "for id in 'd1' 'd3' 'd4' 'd8' 'd10' 'd11' 'd12' 'd13' 'd14' 'd15' 'd16' 'd17' \\\n",
    "          'd19' 'd20' 'r1' 'r2' 'r3' 'r4' 'r5' 'r6' 'r7' 'r8' 'r9' 'r10' 'r11' \\\n",
    "          'r12' 'r13' 'r14' 'r15' 'r16' 'r17' 'r18' 'r19' 'r20' 'r21' 'r22' 'r23' \\\n",
    "          'r24' 'r25' 'r26' 'r27' 'r28' 'r29' 'r30' 'r31' 'r32' 'r33' 'r34' 'r35' \\\n",
    "          'r36' 'r37' 'r38' 'r39' 'r40' 'r41' 'r42' 'r43' 'r44' 'r45' 'r46';\n",
    "do sed -i \"s/d5/$id/\" blastn_fungal_\"$id\".sh;\n",
    "done;\n",
    "\n",
    "# Launch\n",
    "for id in 'd1' 'd3' 'd4' 'd8' 'd10' 'd11' 'd12' 'd13' 'd14' 'd15' 'd16' 'd17' \\\n",
    "          'd19' 'd20' 'r1' 'r2' 'r3' 'r4' 'r5' 'r6' 'r7' 'r8' 'r9' 'r10' 'r11' \\\n",
    "          'r12' 'r13' 'r14' 'r15' 'r16' 'r17' 'r18' 'r19' 'r20' 'r21' 'r22' 'r23' \\\n",
    "          'r24' 'r25' 'r26' 'r27' 'r28' 'r29' 'r30' 'r31' 'r32' 'r33' 'r34' 'r35' \\\n",
    "          'r36' 'r37' 'r38' 'r39' 'r40' 'r41' 'r42' 'r43' 'r44' 'r45' 'r46';\n",
    "do sbatch blastn_fungal_\"$id\".sh;\n",
    "done;"
   ]
  },
  {
   "cell_type": "markdown",
   "metadata": {},
   "source": [
    "### 6.4) Blastn vs bacterial DB"
   ]
  },
  {
   "cell_type": "markdown",
   "metadata": {},
   "source": [
    "Done on Genotoul :"
   ]
  },
  {
   "cell_type": "markdown",
   "metadata": {},
   "source": [
    "Create an initial script (blastn_bacterial_d5.sh) :"
   ]
  },
  {
   "cell_type": "code",
   "execution_count": null,
   "metadata": {
    "code_folding": [
     0
    ],
    "collapsed": true
   },
   "outputs": [],
   "source": [
    "### Code ###\n",
    "#!/bin/bash\n",
    "#$ -q workq\n",
    "#$ -M erwan.scaon@unilim.fr\n",
    "#$ -m bea\n",
    "#$ -l mem=8G\n",
    "#$ -l h_vmem=10G\n",
    "#$ -N TTV_blastn_bacterial_d5\n",
    "#$ -o /home/escaon/work/TTV/ttv_blastn_bacterial_d5_o.txt\n",
    "#$ -e /home/escaon/work/TTV/ttv_blastn_bacterial_d5_e.txt\n",
    "\n",
    "# qsub -pe parallel_smp $nt script.sh\n",
    "\n",
    "work='/home/escaon/work/TTV';\n",
    "save='/home/escaon/save/TTV';\n",
    "blast=\"$work/NCBI_BlastPlus_2.6.0/bin\";\n",
    "mkdir -p $work/Bacterial_blastn;\n",
    "nt=8;\n",
    "\n",
    "cd $save/Reads_qual_hm_fivep;\n",
    "for f in d5_qual.fasta;\n",
    "do $blast/blastn -db $work/Blast_db/hmp_bacterial \\\n",
    "                 -query $f \\\n",
    "                 -reward 1 \\\n",
    "                 -penalty -3 \\\n",
    "                 -word_size 12 \\\n",
    "                 -gapopen 5 \\\n",
    "                 -gapextend 2 \\\n",
    "                 -evalue 0.0001 \\\n",
    "                 -dust \"no\" \\\n",
    "                 -perc_identity 90 \\\n",
    "                 -culling_limit 2 \\\n",
    "                 -out $work/Bacterial_blastn/${f%_*}\"_vs_bacterial.tsv\" \\\n",
    "                 -outfmt \"6 qseqid sseqid pident length mismatch gapopen \\\n",
    "                          qstart qend sstart send evalue bitscore qlen\" \\\n",
    "                 -num_threads $nt;\n",
    "done;"
   ]
  },
  {
   "cell_type": "markdown",
   "metadata": {},
   "source": [
    "Launch it :"
   ]
  },
  {
   "cell_type": "code",
   "execution_count": null,
   "metadata": {
    "code_folding": [
     0
    ],
    "collapsed": true
   },
   "outputs": [],
   "source": [
    "### CODE ###\n",
    "qsub -pe parallel_smp 8 blastn_bacterial_d5.sh;"
   ]
  },
  {
   "cell_type": "markdown",
   "metadata": {},
   "source": [
    "Duplicate it for the other samples :"
   ]
  },
  {
   "cell_type": "code",
   "execution_count": null,
   "metadata": {
    "code_folding": [
     0
    ],
    "collapsed": true
   },
   "outputs": [],
   "source": [
    "#### Code ###\n",
    "# Check what we are going to replace\n",
    "for id in 'd5';\n",
    "do grep --color -i $id blastn_bacterial_\"$id\".sh;\n",
    "done;\n",
    "\n",
    "# Dup scripts\n",
    "for id in 'd1' 'd3' 'd4' 'd8' 'd10' 'd11' 'd12' 'd13' 'd14' 'd15' 'd16' 'd17' \\\n",
    "          'd19' 'd20' 'r1' 'r2' 'r3' 'r4' 'r5' 'r6' 'r7' 'r8' 'r9' 'r10' 'r11' \\\n",
    "          'r12' 'r13' 'r14' 'r15' 'r16' 'r17' 'r18' 'r19' 'r20' 'r21' 'r22' 'r23' \\\n",
    "          'r24' 'r25' 'r26' 'r27' 'r28' 'r29' 'r30' 'r31' 'r32' 'r33' 'r34' 'r35' \\\n",
    "          'r36' 'r37' 'r38' 'r39' 'r40' 'r41' 'r42' 'r43' 'r44' 'r45' 'r46';\n",
    "do cp blastn_bacterial_d5.sh blastn_bacterial_\"$id\".sh;\n",
    "done;\n",
    "\n",
    "# Replace with new E name\n",
    "for id in 'd1' 'd3' 'd4' 'd8' 'd10' 'd11' 'd12' 'd13' 'd14' 'd15' 'd16' 'd17' \\\n",
    "          'd19' 'd20' 'r1' 'r2' 'r3' 'r4' 'r5' 'r6' 'r7' 'r8' 'r9' 'r10' 'r11' \\\n",
    "          'r12' 'r13' 'r14' 'r15' 'r16' 'r17' 'r18' 'r19' 'r20' 'r21' 'r22' 'r23' \\\n",
    "          'r24' 'r25' 'r26' 'r27' 'r28' 'r29' 'r30' 'r31' 'r32' 'r33' 'r34' 'r35' \\\n",
    "          'r36' 'r37' 'r38' 'r39' 'r40' 'r41' 'r42' 'r43' 'r44' 'r45' 'r46';\n",
    "do sed -i \"s/d5/$id/\" blastn_bacterial_\"$id\".sh;\n",
    "done;\n",
    "\n",
    "# Launch\n",
    "for id in 'd1' 'd3' 'd4' 'd8' 'd10' 'd11' 'd12' 'd13' 'd14' 'd15' 'd16' 'd17' \\\n",
    "          'd19' 'd20' 'r1' 'r2' 'r3' 'r4' 'r5' 'r6' 'r7' 'r8' 'r9' 'r10' 'r11' \\\n",
    "          'r12' 'r13' 'r14' 'r15' 'r16' 'r17' 'r18' 'r19' 'r20' 'r21' 'r22' 'r23' \\\n",
    "          'r24' 'r25' 'r26' 'r27' 'r28' 'r29' 'r30' 'r31' 'r32' 'r33' 'r34' 'r35' \\\n",
    "          'r36' 'r37' 'r38' 'r39' 'r40' 'r41' 'r42' 'r43' 'r44' 'r45' 'r46';\n",
    "do qsub -pe parallel_smp 8 blastn_bacterial_\"$id\".sh;\n",
    "done;"
   ]
  },
  {
   "cell_type": "markdown",
   "metadata": {},
   "source": [
    "### 6.5) Hit count per TTV genotypes"
   ]
  },
  {
   "cell_type": "code",
   "execution_count": null,
   "metadata": {
    "collapsed": true
   },
   "outputs": [],
   "source": []
  },
  {
   "cell_type": "code",
   "execution_count": null,
   "metadata": {
    "collapsed": true
   },
   "outputs": [],
   "source": []
  },
  {
   "cell_type": "code",
   "execution_count": null,
   "metadata": {
    "collapsed": true
   },
   "outputs": [],
   "source": []
  }
 ],
 "metadata": {
  "anaconda-cloud": {},
  "kernelspec": {
   "display_name": "Bash",
   "language": "bash",
   "name": "bash"
  },
  "language_info": {
   "codemirror_mode": "shell",
   "file_extension": ".sh",
   "mimetype": "text/x-sh",
   "name": "bash"
  }
 },
 "nbformat": 4,
 "nbformat_minor": 1
}
